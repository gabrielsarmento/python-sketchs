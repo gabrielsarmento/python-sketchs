{
 "cells": [
  {
   "cell_type": "code",
   "execution_count": 19,
   "metadata": {},
   "outputs": [],
   "source": [
    "from flask import Flask, jsonify\n",
    "from flask.json import JSONEncoder\n",
    "import calendar\n",
    "from datetime import datetime\n",
    "\n",
    "\n",
    "class CustomJSONEncoder(JSONEncoder):\n",
    "\n",
    "    def default(self, obj):\n",
    "        try:\n",
    "            if isinstance(obj, datetime):\n",
    "                return obj.isoformat()[:10]\n",
    "            iterable = iter(obj)\n",
    "        except TypeError:\n",
    "            pass\n",
    "        else:\n",
    "            return list(iterable)\n",
    "        return JSONEncoder.default(self, obj)\n",
    "\n",
    "    \n",
    "def create_app() -> Flask:\n",
    "    app = Flask(__name__)\n",
    "    app.json_encoder = CustomJSONEncoder\n",
    "\n",
    "\n",
    "    @app.route('/custom')\n",
    "    def custom_jsonencoder():\n",
    "        now = datetime.now()\n",
    "        return jsonify({'now': now})\n",
    "    return app"
   ]
  },
  {
   "cell_type": "code",
   "execution_count": 20,
   "metadata": {},
   "outputs": [],
   "source": [
    "app = create_app().test_client()"
   ]
  },
  {
   "cell_type": "code",
   "execution_count": 21,
   "metadata": {},
   "outputs": [],
   "source": [
    "response = app.get('/custom')"
   ]
  },
  {
   "cell_type": "code",
   "execution_count": 22,
   "metadata": {},
   "outputs": [
    {
     "data": {
      "text/plain": [
       "{'now': '2019-07-09'}"
      ]
     },
     "execution_count": 22,
     "metadata": {},
     "output_type": "execute_result"
    }
   ],
   "source": [
    "import json\n",
    "\n",
    "json.loads(response.data.decode())"
   ]
  }
 ],
 "metadata": {
  "kernelspec": {
   "display_name": "Python 3",
   "language": "python",
   "name": "python3"
  },
  "language_info": {
   "codemirror_mode": {
    "name": "ipython",
    "version": 3
   },
   "file_extension": ".py",
   "mimetype": "text/x-python",
   "name": "python",
   "nbconvert_exporter": "python",
   "pygments_lexer": "ipython3",
   "version": "3.7.3"
  }
 },
 "nbformat": 4,
 "nbformat_minor": 2
}
